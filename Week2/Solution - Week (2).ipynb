{
 "cells": [
  {
   "cell_type": "code",
   "execution_count": 30,
   "id": "6201894b",
   "metadata": {},
   "outputs": [],
   "source": [
    "import sqlite3 as sq"
   ]
  },
  {
   "cell_type": "code",
   "execution_count": 31,
   "id": "56b8edf3",
   "metadata": {},
   "outputs": [],
   "source": [
    "con=sq.connect('stud.db')"
   ]
  },
  {
   "cell_type": "code",
   "execution_count": 32,
   "id": "14cd0998",
   "metadata": {},
   "outputs": [],
   "source": [
    "cur=con.cursor()"
   ]
  },
  {
   "cell_type": "code",
   "execution_count": 35,
   "id": "ab54c07c",
   "metadata": {},
   "outputs": [],
   "source": [
    "a1='create table stud11(id int primary key,name text)'"
   ]
  },
  {
   "cell_type": "code",
   "execution_count": 36,
   "id": "20b4d5eb",
   "metadata": {},
   "outputs": [
    {
     "data": {
      "text/plain": [
       "<sqlite3.Cursor at 0x1cd29a139c0>"
      ]
     },
     "execution_count": 36,
     "metadata": {},
     "output_type": "execute_result"
    }
   ],
   "source": [
    "cur.execute(a1)"
   ]
  },
  {
   "cell_type": "code",
   "execution_count": 37,
   "id": "88ff6e44",
   "metadata": {},
   "outputs": [],
   "source": [
    "a2='create table stud_details11(id references stud(id),city text,mobileno int)'"
   ]
  },
  {
   "cell_type": "code",
   "execution_count": 38,
   "id": "a30d046b",
   "metadata": {},
   "outputs": [
    {
     "data": {
      "text/plain": [
       "<sqlite3.Cursor at 0x1cd29a139c0>"
      ]
     },
     "execution_count": 38,
     "metadata": {},
     "output_type": "execute_result"
    }
   ],
   "source": [
    "cur.execute(a2)"
   ]
  },
  {
   "cell_type": "code",
   "execution_count": 39,
   "id": "546bbe96",
   "metadata": {},
   "outputs": [],
   "source": [
    "con.commit()"
   ]
  },
  {
   "cell_type": "markdown",
   "id": "7cb64c0b",
   "metadata": {},
   "source": [
    "2.insert into atleast 10 recordes for each table."
   ]
  },
  {
   "cell_type": "code",
   "execution_count": 40,
   "id": "679c1167",
   "metadata": {},
   "outputs": [],
   "source": [
    "I1=\"insert into stud11 values(1,'Jai'),(2,'Shree'),(3,'Ram'),(4,'shivji'),(5,'krishna'),(6,'sitaji'),(7,'Hanuman'),(8,'laxman'),(9,'Ganesh'),(10,'Bheem')\""
   ]
  },
  {
   "cell_type": "code",
   "execution_count": 41,
   "id": "577e16d9",
   "metadata": {},
   "outputs": [
    {
     "data": {
      "text/plain": [
       "<sqlite3.Cursor at 0x1cd29a139c0>"
      ]
     },
     "execution_count": 41,
     "metadata": {},
     "output_type": "execute_result"
    }
   ],
   "source": [
    "cur.execute(I1)"
   ]
  },
  {
   "cell_type": "code",
   "execution_count": 42,
   "id": "56b883fa",
   "metadata": {},
   "outputs": [],
   "source": [
    "I2=\"insert into stud_details11 values(1,'surat',1098765432),(2,'Bardoli',9620241186),(3,'Vyara',8980956321),(4,'Baroda',9586544862),(5,'Katchh',7755886633),(6,'Surendranagar',6655887744),(7,'Dahod',7889665544),(8,'Diu',9877445522),(9,'Rajkot',9756218562),(10,'Songadh',7896968532)\""
   ]
  },
  {
   "cell_type": "code",
   "execution_count": 43,
   "id": "f7e762b5",
   "metadata": {},
   "outputs": [
    {
     "data": {
      "text/plain": [
       "<sqlite3.Cursor at 0x1cd29a139c0>"
      ]
     },
     "execution_count": 43,
     "metadata": {},
     "output_type": "execute_result"
    }
   ],
   "source": [
    "cur.execute(I2)"
   ]
  },
  {
   "cell_type": "code",
   "execution_count": 44,
   "id": "6d1ad4d1",
   "metadata": {},
   "outputs": [],
   "source": [
    "con.commit()"
   ]
  },
  {
   "cell_type": "markdown",
   "id": "c1e243f9",
   "metadata": {},
   "source": [
    "3.Diplay whose Student Come From the Surat City."
   ]
  },
  {
   "cell_type": "code",
   "execution_count": 45,
   "id": "c9afa351",
   "metadata": {},
   "outputs": [],
   "source": [
    "a3=\"select * from stud_details where city='surat' \""
   ]
  },
  {
   "cell_type": "code",
   "execution_count": 46,
   "id": "d4f654c5",
   "metadata": {},
   "outputs": [
    {
     "data": {
      "text/plain": [
       "<sqlite3.Cursor at 0x1cd29a139c0>"
      ]
     },
     "execution_count": 46,
     "metadata": {},
     "output_type": "execute_result"
    }
   ],
   "source": [
    "cur.execute(a3)"
   ]
  },
  {
   "cell_type": "code",
   "execution_count": 47,
   "id": "1a380fae",
   "metadata": {},
   "outputs": [
    {
     "data": {
      "text/plain": [
       "[(1, 'surat', 9574880099)]"
      ]
     },
     "execution_count": 47,
     "metadata": {},
     "output_type": "execute_result"
    }
   ],
   "source": [
    "cur.fetchall()"
   ]
  },
  {
   "cell_type": "code",
   "execution_count": 48,
   "id": "099fff9a",
   "metadata": {},
   "outputs": [],
   "source": [
    "con.commit()"
   ]
  },
  {
   "cell_type": "markdown",
   "id": "339b3981",
   "metadata": {},
   "source": [
    "4.Display Student Details Whose City Name Start with B."
   ]
  },
  {
   "cell_type": "code",
   "execution_count": 52,
   "id": "faf43df6",
   "metadata": {},
   "outputs": [],
   "source": [
    "a4=\"select * from stud_details11 where city LIKE 'b%' \""
   ]
  },
  {
   "cell_type": "code",
   "execution_count": 53,
   "id": "7da24671",
   "metadata": {},
   "outputs": [
    {
     "data": {
      "text/plain": [
       "<sqlite3.Cursor at 0x1cd29a139c0>"
      ]
     },
     "execution_count": 53,
     "metadata": {},
     "output_type": "execute_result"
    }
   ],
   "source": [
    "cur.execute(a4)"
   ]
  },
  {
   "cell_type": "code",
   "execution_count": 54,
   "id": "0c9f06d0",
   "metadata": {},
   "outputs": [
    {
     "data": {
      "text/plain": [
       "[(2, 'Bardoli', 9620241186), (4, 'Baroda', 9586544862)]"
      ]
     },
     "execution_count": 54,
     "metadata": {},
     "output_type": "execute_result"
    }
   ],
   "source": [
    "cur.fetchall()"
   ]
  },
  {
   "cell_type": "code",
   "execution_count": 55,
   "id": "5360245f",
   "metadata": {},
   "outputs": [],
   "source": [
    "con.commit()"
   ]
  },
  {
   "cell_type": "markdown",
   "id": "b07e0d22",
   "metadata": {},
   "source": [
    "5.Update Mobile Who are Coming From 'Surat'."
   ]
  },
  {
   "cell_type": "code",
   "execution_count": 56,
   "id": "153ec529",
   "metadata": {},
   "outputs": [],
   "source": [
    "a5=\"update stud_details11 set mobileno=9574880099 where city='surat' \""
   ]
  },
  {
   "cell_type": "code",
   "execution_count": 57,
   "id": "2526ebca",
   "metadata": {},
   "outputs": [
    {
     "data": {
      "text/plain": [
       "<sqlite3.Cursor at 0x1cd29a139c0>"
      ]
     },
     "execution_count": 57,
     "metadata": {},
     "output_type": "execute_result"
    }
   ],
   "source": [
    "cur.execute(a5)"
   ]
  },
  {
   "cell_type": "code",
   "execution_count": 58,
   "id": "a9a65074",
   "metadata": {},
   "outputs": [],
   "source": [
    "con.commit()"
   ]
  },
  {
   "cell_type": "code",
   "execution_count": 59,
   "id": "7059a6f2",
   "metadata": {},
   "outputs": [],
   "source": [
    "con.close()"
   ]
  }
 ],
 "metadata": {
  "kernelspec": {
   "display_name": "Python 3 (ipykernel)",
   "language": "python",
   "name": "python3"
  },
  "language_info": {
   "codemirror_mode": {
    "name": "ipython",
    "version": 3
   },
   "file_extension": ".py",
   "mimetype": "text/x-python",
   "name": "python",
   "nbconvert_exporter": "python",
   "pygments_lexer": "ipython3",
   "version": "3.10.8"
  }
 },
 "nbformat": 4,
 "nbformat_minor": 5
}
